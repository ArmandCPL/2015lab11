{
 "cells": [
  {
   "cell_type": "code",
   "execution_count": 79,
   "metadata": {
    "collapsed": false
   },
   "outputs": [
    {
     "data": {
      "application/javascript": [
       "require(['base/js/utils'],\n",
       "function(utils) {\n",
       "   utils.load_extensions('calico-spell-check');\n",
       "});"
      ],
      "text/plain": [
       "<IPython.core.display.Javascript object>"
      ]
     },
     "metadata": {},
     "output_type": "display_data"
    }
   ],
   "source": [
    "%%javascript\n",
    "require(['base/js/utils'],\n",
    "function(utils) {\n",
    "   utils.load_extensions('calico-spell-check');\n",
    "});"
   ]
  },
  {
   "cell_type": "markdown",
   "metadata": {},
   "source": [
    "# CS-109: Fall 2015  -- Lab 11\n"
   ]
  },
  {
   "cell_type": "markdown",
   "metadata": {},
   "source": [
    "# Project Guidelines:\n",
    "Much of this is taken directly from the [Project Page](http://cs109.github.io/2015/pages/projects.html) on the CS109 website.\n",
    "\n",
    "> Goal: to go through the complete data science process to answer questions you have about some topic.\n",
    ">\n",
    "> How?\n",
    "> - acquire the data\n",
    "> - design your visualizations\n",
    "> - run statistical analysis\n",
    "> - communicate the results\n",
    "\n",
    "### Project Milestones:\n",
    "- **Proposal**: Due 11/12/2015\n",
    "- **Proposal Review**: You'll be assigned a TF as an advisor, they'll review your proposal and meet with your **entire** team.\n",
    "\n",
    "\n",
    "### Data science as a process\n",
    "You'll start with an initial idea, your TF should be able to guide you as to the viability of such a proposal. However, as with any project, you'll run into roadblocks! It's important for us to see the entire process and not just the final product. **Your proposal is a great jumping-off point for some of this!**\n",
    "\n",
    ">#### IPython Process Book\n",
    "\n",
    ">An important part of your project is your iPython process book. Your process book details your steps in developing your solution, including how you collected the data, alternative solutions you tried, describing statistical methods you used, and the insights you got. Equally important to your final results is how you got there! Your process book is the place you describe and document the space of possibilities you explored at each step of your project. We strongly advise you to include many visualizations in your process book.Your process book should include the following topics. Depending on your project type the amount of discussion you devote to each of them will vary:\n",
    "\n",
    "> - **Overview and Motivation**: Provide an overview of the project goals and the motivation for it. Consider that this will be read by people who did not see your project proposal.\n",
    "\n",
    "> - **Related Work**: Anything that inspired you, such as a paper, a web site, or something we discussed in class.\n",
    "\n",
    "> - **Initial Questions**: What questions are you trying to answer? How did these questions evolve over the course of the project? What new questions did you consider in the course of your analysis? - Data: Source, scraping method, cleanup, storage, etc.\n",
    "\n",
    "> - **Exploratory Data Analysis**: What visualizations did you use to look at your data in different ways? What are the different statistical methods you considered? Justify the decisions you made, and show any major changes to your ideas. How did you reach these conclusions?\n",
    "\n",
    "> - **Final Analysis**: What did you learn about the data? How did you answer the questions? How can you justify your answers?\n",
    "\n",
    "> - **Presentation**: Present your final results in a compelling and engaging way using text, visualizations, images, and videos on your project web site.\n",
    "\n",
    ">Describe the storytelling elements and goals in your process notebook and show us sketches and screenshots of different web site iterations. As this will be your only chance to describe your project in detail make sure that your process book is a standalone document that fully describes your process and results.\n",
    "\n",
    "### Final Products\n",
    "- **Code**: you've been graded all semester on this, just keep doing a great job at submitting clean code with comments\n",
    "- **Website**: make a *public website* (Github pages, Google sites, etc.), summarize the main results of your project and tell a story, **anyone** should be able to read this part of your project, link to your Process Notebook and Github repo. \n",
    "- **Two-minute presentation**: Each team will create a **two minute** screencas (seriously, 2 minutes) with narration showing a demo of your iPython process book and/or some slides.  Upload to YouTube (or Vimeo) and **embed it into your project web page**. Focus on:\n",
    "    - main contributions rather than on technical details. \n",
    "    - What do you feel is the best part of your project? \n",
    "    - What insights did you gain? \n",
    "    - What is the single most important thing you would like your audience to take away? \n",
    "    - This should be **one of the first things** someone visiting your website should see.\n",
    "\n",
    "### Peer Assessment\n",
    "Remember, data science is an interdisciplinary field, you'll never work alone. It's important that everyone contributes and works well together. So we added this portion to get everyone thinking about teamwork early on.\n",
    "\n",
    "> Peer assessment:\n",
    "> - **Preparation**: were they prepared during team meetings?\n",
    "> - **Contribution**: did they contribute productively to the team discussion and work?\n",
    "> - **Respect for others’ ideas**: did they encourage others to contribute their ideas?\n",
    "> - **Flexibility**: were they flexible when disagreements occurred?"
   ]
  },
  {
   "cell_type": "markdown",
   "metadata": {},
   "source": [
    "\n",
    "## Example: Food Inspection Forecasting\n"
   ]
  },
  {
   "cell_type": "code",
   "execution_count": 1,
   "metadata": {
    "collapsed": true
   },
   "outputs": [],
   "source": [
    "# special IPython command to prepare the notebook for matplotlib\n",
    "%matplotlib inline \n",
    "\n",
    "import numpy as np\n",
    "import pandas as pd\n",
    "import scipy.stats as stats\n",
    "import matplotlib.pyplot as plt\n",
    "import sklearn\n",
    "import statsmodels.api as sm\n",
    "\n",
    "import seaborn as sns\n",
    "sns.set_style(\"whitegrid\")\n",
    "sns.set_context(\"poster\")\n",
    "\n",
    "# special matplotlib argument for improved plots\n",
    "from matplotlib import rcParams\n"
   ]
  },
  {
   "cell_type": "code",
   "execution_count": 80,
   "metadata": {
    "collapsed": false,
    "scrolled": true
   },
   "outputs": [
    {
     "data": {
      "text/html": [
       "<div>\n",
       "<table border=\"1\" class=\"dataframe\">\n",
       "  <thead>\n",
       "    <tr style=\"text-align: right;\">\n",
       "      <th></th>\n",
       "      <th>Unnamed: 0</th>\n",
       "      <th>Inspection_ID</th>\n",
       "      <th>DBA_Name</th>\n",
       "      <th>AKA_Name</th>\n",
       "      <th>License</th>\n",
       "      <th>Facility_Type</th>\n",
       "      <th>Risk</th>\n",
       "      <th>Address</th>\n",
       "      <th>City</th>\n",
       "      <th>State</th>\n",
       "      <th>Zip</th>\n",
       "      <th>Inspection_Date</th>\n",
       "      <th>Inspection_Type</th>\n",
       "      <th>Results</th>\n",
       "      <th>Violations</th>\n",
       "      <th>Latitude</th>\n",
       "      <th>Longitude</th>\n",
       "      <th>Location</th>\n",
       "    </tr>\n",
       "  </thead>\n",
       "  <tbody>\n",
       "    <tr>\n",
       "      <th>0</th>\n",
       "      <td>1</td>\n",
       "      <td>44247</td>\n",
       "      <td>EAT A PITA</td>\n",
       "      <td>EAT A PITA</td>\n",
       "      <td>1222441</td>\n",
       "      <td>Restaurant</td>\n",
       "      <td>Risk 1 (High)</td>\n",
       "      <td>3155 N HALSTED ST</td>\n",
       "      <td>CHICAGO</td>\n",
       "      <td>IL</td>\n",
       "      <td>60657</td>\n",
       "      <td>2010-01-05</td>\n",
       "      <td>Complaint</td>\n",
       "      <td>Pass</td>\n",
       "      <td>30. FOOD IN ORIGINAL CONTAINER, PROPERLY LABEL...</td>\n",
       "      <td>41.939441</td>\n",
       "      <td>-87.649103</td>\n",
       "      <td>(41.93944115701468, -87.64910277148812)</td>\n",
       "    </tr>\n",
       "    <tr>\n",
       "      <th>1</th>\n",
       "      <td>2</td>\n",
       "      <td>44248</td>\n",
       "      <td>LA GONDOLA</td>\n",
       "      <td>LA GONDOLA</td>\n",
       "      <td>1336561</td>\n",
       "      <td>Restaurant</td>\n",
       "      <td>Risk 1 (High)</td>\n",
       "      <td>2914 N ASHLAND AVE</td>\n",
       "      <td>CHICAGO</td>\n",
       "      <td>IL</td>\n",
       "      <td>60657</td>\n",
       "      <td>2010-01-21</td>\n",
       "      <td>Canvass</td>\n",
       "      <td>Pass</td>\n",
       "      <td>32. FOOD AND NON-FOOD CONTACT SURFACES PROPERL...</td>\n",
       "      <td>41.934679</td>\n",
       "      <td>-87.668625</td>\n",
       "      <td>(41.93467889167928, -87.66862496860755)</td>\n",
       "    </tr>\n",
       "    <tr>\n",
       "      <th>2</th>\n",
       "      <td>3</td>\n",
       "      <td>44249</td>\n",
       "      <td>Azha Restaurant Inc.</td>\n",
       "      <td>Azha Restaurant</td>\n",
       "      <td>1334073</td>\n",
       "      <td>Restaurant</td>\n",
       "      <td>Risk 1 (High)</td>\n",
       "      <td>960 W BELMONT AVE</td>\n",
       "      <td>CHICAGO</td>\n",
       "      <td>IL</td>\n",
       "      <td>60657</td>\n",
       "      <td>2010-01-21</td>\n",
       "      <td>Canvass Re-Inspection</td>\n",
       "      <td>Pass</td>\n",
       "      <td>18. NO EVIDENCE OF RODENT OR INSECT OUTER OPEN...</td>\n",
       "      <td>41.940027</td>\n",
       "      <td>-87.653811</td>\n",
       "      <td>(41.94002687624888, -87.65381102535457)</td>\n",
       "    </tr>\n",
       "    <tr>\n",
       "      <th>3</th>\n",
       "      <td>4</td>\n",
       "      <td>44250</td>\n",
       "      <td>SAINT JOSEPH HOSPITAL</td>\n",
       "      <td>SAINT JOSEPH HOSPITAL</td>\n",
       "      <td>1144381</td>\n",
       "      <td>Hospital</td>\n",
       "      <td>Risk 1 (High)</td>\n",
       "      <td>2900 N LAKE SHORE DR</td>\n",
       "      <td>CHICAGO</td>\n",
       "      <td>IL</td>\n",
       "      <td>60657</td>\n",
       "      <td>2010-02-09</td>\n",
       "      <td>Canvass</td>\n",
       "      <td>Pass</td>\n",
       "      <td>33. FOOD AND NON-FOOD CONTACT EQUIPMENT UTENSI...</td>\n",
       "      <td>41.934403</td>\n",
       "      <td>-87.636806</td>\n",
       "      <td>(41.93440298707838, -87.63680583708285)</td>\n",
       "    </tr>\n",
       "    <tr>\n",
       "      <th>4</th>\n",
       "      <td>5</td>\n",
       "      <td>44251</td>\n",
       "      <td>SAINT JOSEPH HOSPITAL</td>\n",
       "      <td>SAINT JOSEPH HOSPITAL</td>\n",
       "      <td>1144380</td>\n",
       "      <td>Hospital</td>\n",
       "      <td>Risk 1 (High)</td>\n",
       "      <td>2900 N LAKE SHORE DR</td>\n",
       "      <td>CHICAGO</td>\n",
       "      <td>IL</td>\n",
       "      <td>60657</td>\n",
       "      <td>2010-02-09</td>\n",
       "      <td>Canvass</td>\n",
       "      <td>Pass</td>\n",
       "      <td>33. FOOD AND NON-FOOD CONTACT EQUIPMENT UTENSI...</td>\n",
       "      <td>41.934403</td>\n",
       "      <td>-87.636806</td>\n",
       "      <td>(41.93440298707838, -87.63680583708285)</td>\n",
       "    </tr>\n",
       "  </tbody>\n",
       "</table>\n",
       "</div>"
      ],
      "text/plain": [
       "   Unnamed: 0  Inspection_ID               DBA_Name               AKA_Name  \\\n",
       "0           1          44247             EAT A PITA             EAT A PITA   \n",
       "1           2          44248             LA GONDOLA             LA GONDOLA   \n",
       "2           3          44249   Azha Restaurant Inc.        Azha Restaurant   \n",
       "3           4          44250  SAINT JOSEPH HOSPITAL  SAINT JOSEPH HOSPITAL   \n",
       "4           5          44251  SAINT JOSEPH HOSPITAL  SAINT JOSEPH HOSPITAL   \n",
       "\n",
       "   License Facility_Type           Risk                Address     City State  \\\n",
       "0  1222441    Restaurant  Risk 1 (High)     3155 N HALSTED ST   CHICAGO    IL   \n",
       "1  1336561    Restaurant  Risk 1 (High)    2914 N ASHLAND AVE   CHICAGO    IL   \n",
       "2  1334073    Restaurant  Risk 1 (High)     960 W BELMONT AVE   CHICAGO    IL   \n",
       "3  1144381      Hospital  Risk 1 (High)  2900 N LAKE SHORE DR   CHICAGO    IL   \n",
       "4  1144380      Hospital  Risk 1 (High)  2900 N LAKE SHORE DR   CHICAGO    IL   \n",
       "\n",
       "     Zip Inspection_Date        Inspection_Type Results  \\\n",
       "0  60657      2010-01-05              Complaint    Pass   \n",
       "1  60657      2010-01-21                Canvass    Pass   \n",
       "2  60657      2010-01-21  Canvass Re-Inspection    Pass   \n",
       "3  60657      2010-02-09                Canvass    Pass   \n",
       "4  60657      2010-02-09                Canvass    Pass   \n",
       "\n",
       "                                          Violations   Latitude  Longitude  \\\n",
       "0  30. FOOD IN ORIGINAL CONTAINER, PROPERLY LABEL...  41.939441 -87.649103   \n",
       "1  32. FOOD AND NON-FOOD CONTACT SURFACES PROPERL...  41.934679 -87.668625   \n",
       "2  18. NO EVIDENCE OF RODENT OR INSECT OUTER OPEN...  41.940027 -87.653811   \n",
       "3  33. FOOD AND NON-FOOD CONTACT EQUIPMENT UTENSI...  41.934403 -87.636806   \n",
       "4  33. FOOD AND NON-FOOD CONTACT EQUIPMENT UTENSI...  41.934403 -87.636806   \n",
       "\n",
       "                                  Location  \n",
       "0  (41.93944115701468, -87.64910277148812)  \n",
       "1  (41.93467889167928, -87.66862496860755)  \n",
       "2  (41.94002687624888, -87.65381102535457)  \n",
       "3  (41.93440298707838, -87.63680583708285)  \n",
       "4  (41.93440298707838, -87.63680583708285)  "
      ]
     },
     "execution_count": 80,
     "metadata": {},
     "output_type": "execute_result"
    }
   ],
   "source": [
    "food = pd.read_csv('food_inspections.csv', sep=',')\n",
    "food.head()"
   ]
  },
  {
   "cell_type": "markdown",
   "metadata": {},
   "source": [
    "### Recreate tables "
   ]
  },
  {
   "cell_type": "code",
   "execution_count": 58,
   "metadata": {
    "collapsed": false
   },
   "outputs": [],
   "source": [
    "import dateutil.parser\n",
    "food['year'] = [dateutil.parser.parse(x).year for x in food.Inspection_Date]\n",
    "food['month'] = [dateutil.parser.parse(x).month for x in food.Inspection_Date]"
   ]
  },
  {
   "cell_type": "code",
   "execution_count": 59,
   "metadata": {
    "collapsed": false
   },
   "outputs": [],
   "source": [
    "food2014 = food.loc[food['year'].values == 2014,]"
   ]
  },
  {
   "cell_type": "code",
   "execution_count": 60,
   "metadata": {
    "collapsed": false
   },
   "outputs": [
    {
     "data": {
      "text/html": [
       "<div>\n",
       "<table border=\"1\" class=\"dataframe\">\n",
       "  <thead>\n",
       "    <tr style=\"text-align: right;\">\n",
       "      <th></th>\n",
       "      <th>Unnamed: 0</th>\n",
       "      <th>Inspection_ID</th>\n",
       "      <th>DBA_Name</th>\n",
       "      <th>AKA_Name</th>\n",
       "      <th>License</th>\n",
       "      <th>Facility_Type</th>\n",
       "      <th>Risk</th>\n",
       "      <th>Address</th>\n",
       "      <th>City</th>\n",
       "      <th>State</th>\n",
       "      <th>Zip</th>\n",
       "      <th>Inspection_Date</th>\n",
       "      <th>Inspection_Type</th>\n",
       "      <th>Results</th>\n",
       "      <th>Violations</th>\n",
       "      <th>Latitude</th>\n",
       "      <th>Longitude</th>\n",
       "      <th>Location</th>\n",
       "      <th>year</th>\n",
       "      <th>month</th>\n",
       "    </tr>\n",
       "  </thead>\n",
       "  <tbody>\n",
       "    <tr>\n",
       "      <th>10557</th>\n",
       "      <td>10558</td>\n",
       "      <td>274810</td>\n",
       "      <td>COLD STONE CREAMERY</td>\n",
       "      <td>COLD STONE CREAMERY</td>\n",
       "      <td>1488799</td>\n",
       "      <td>NaN</td>\n",
       "      <td>Risk 3 (Low)</td>\n",
       "      <td>3510 N HALSTED ST</td>\n",
       "      <td>CHICAGO</td>\n",
       "      <td>IL</td>\n",
       "      <td>60657</td>\n",
       "      <td>2014-08-14</td>\n",
       "      <td>Canvass</td>\n",
       "      <td>Out of Business</td>\n",
       "      <td>NaN</td>\n",
       "      <td>41.945777</td>\n",
       "      <td>-87.649588</td>\n",
       "      <td>(41.94577730075354, -87.64958777668471)</td>\n",
       "      <td>2014</td>\n",
       "      <td>8</td>\n",
       "    </tr>\n",
       "    <tr>\n",
       "      <th>41023</th>\n",
       "      <td>41024</td>\n",
       "      <td>920444</td>\n",
       "      <td>GALLISTEL LANGUAGE ACADEMY</td>\n",
       "      <td>GALLISTEL LANGUAGE ACADEMY</td>\n",
       "      <td>2046708</td>\n",
       "      <td>School</td>\n",
       "      <td>Risk 1 (High)</td>\n",
       "      <td>10200 S AVENUE J</td>\n",
       "      <td>CHICAGO</td>\n",
       "      <td>IL</td>\n",
       "      <td>60617</td>\n",
       "      <td>2014-01-15</td>\n",
       "      <td>Canvass</td>\n",
       "      <td>Fail</td>\n",
       "      <td>29. PREVIOUS MINOR VIOLATION(S) CORRECTED 7-42...</td>\n",
       "      <td>41.709957</td>\n",
       "      <td>-87.534223</td>\n",
       "      <td>(41.70995714781606, -87.5342225149751)</td>\n",
       "      <td>2014</td>\n",
       "      <td>1</td>\n",
       "    </tr>\n",
       "    <tr>\n",
       "      <th>41024</th>\n",
       "      <td>41025</td>\n",
       "      <td>920445</td>\n",
       "      <td>SUBWAY</td>\n",
       "      <td>SUBWAY</td>\n",
       "      <td>2183563</td>\n",
       "      <td>Restaurant</td>\n",
       "      <td>Risk 1 (High)</td>\n",
       "      <td>4025 E 106TH ST</td>\n",
       "      <td>CHICAGO</td>\n",
       "      <td>IL</td>\n",
       "      <td>60617</td>\n",
       "      <td>2014-02-03</td>\n",
       "      <td>Canvass</td>\n",
       "      <td>Pass w/ Conditions</td>\n",
       "      <td>2. FACILITIES TO MAINTAIN PROPER TEMPERATURE -...</td>\n",
       "      <td>41.702577</td>\n",
       "      <td>-87.525872</td>\n",
       "      <td>(41.70257660937248, -87.52587169711877)</td>\n",
       "      <td>2014</td>\n",
       "      <td>2</td>\n",
       "    </tr>\n",
       "    <tr>\n",
       "      <th>41025</th>\n",
       "      <td>41026</td>\n",
       "      <td>920446</td>\n",
       "      <td>SHARKS FISH &amp; CHICKEN</td>\n",
       "      <td>SHARKS FISH &amp; CHICKEN</td>\n",
       "      <td>1477112</td>\n",
       "      <td>Restaurant</td>\n",
       "      <td>Risk 2 (Medium)</td>\n",
       "      <td>2027 E 95TH ST</td>\n",
       "      <td>CHICAGO</td>\n",
       "      <td>IL</td>\n",
       "      <td>60617</td>\n",
       "      <td>2014-02-03</td>\n",
       "      <td>Canvass</td>\n",
       "      <td>Pass</td>\n",
       "      <td>38. VENTILATION: ROOMS AND EQUIPMENT VENTED AS...</td>\n",
       "      <td>41.722372</td>\n",
       "      <td>-87.574275</td>\n",
       "      <td>(41.72237211196818, -87.57427469548966)</td>\n",
       "      <td>2014</td>\n",
       "      <td>2</td>\n",
       "    </tr>\n",
       "    <tr>\n",
       "      <th>41026</th>\n",
       "      <td>41027</td>\n",
       "      <td>920447</td>\n",
       "      <td>EL GUERO</td>\n",
       "      <td>EL GUERO</td>\n",
       "      <td>18978</td>\n",
       "      <td>Grocery Store</td>\n",
       "      <td>Risk 1 (High)</td>\n",
       "      <td>9027-9029 S COMMERCIAL AVE</td>\n",
       "      <td>CHICAGO</td>\n",
       "      <td>IL</td>\n",
       "      <td>60617</td>\n",
       "      <td>2014-02-26</td>\n",
       "      <td>Canvass Re-Inspection</td>\n",
       "      <td>Fail</td>\n",
       "      <td>33. FOOD AND NON-FOOD CONTACT EQUIPMENT UTENSI...</td>\n",
       "      <td>41.731076</td>\n",
       "      <td>-87.551134</td>\n",
       "      <td>(41.7310758719025, -87.55113416594888)</td>\n",
       "      <td>2014</td>\n",
       "      <td>2</td>\n",
       "    </tr>\n",
       "  </tbody>\n",
       "</table>\n",
       "</div>"
      ],
      "text/plain": [
       "       Unnamed: 0  Inspection_ID                    DBA_Name  \\\n",
       "10557       10558         274810         COLD STONE CREAMERY   \n",
       "41023       41024         920444  GALLISTEL LANGUAGE ACADEMY   \n",
       "41024       41025         920445                      SUBWAY   \n",
       "41025       41026         920446       SHARKS FISH & CHICKEN   \n",
       "41026       41027         920447                    EL GUERO   \n",
       "\n",
       "                         AKA_Name  License  Facility_Type             Risk  \\\n",
       "10557         COLD STONE CREAMERY  1488799            NaN     Risk 3 (Low)   \n",
       "41023  GALLISTEL LANGUAGE ACADEMY  2046708         School    Risk 1 (High)   \n",
       "41024                      SUBWAY  2183563     Restaurant    Risk 1 (High)   \n",
       "41025       SHARKS FISH & CHICKEN  1477112     Restaurant  Risk 2 (Medium)   \n",
       "41026                    EL GUERO    18978  Grocery Store    Risk 1 (High)   \n",
       "\n",
       "                           Address     City State    Zip Inspection_Date  \\\n",
       "10557           3510 N HALSTED ST   CHICAGO    IL  60657      2014-08-14   \n",
       "41023            10200 S AVENUE J   CHICAGO    IL  60617      2014-01-15   \n",
       "41024             4025 E 106TH ST   CHICAGO    IL  60617      2014-02-03   \n",
       "41025              2027 E 95TH ST   CHICAGO    IL  60617      2014-02-03   \n",
       "41026  9027-9029 S COMMERCIAL AVE   CHICAGO    IL  60617      2014-02-26   \n",
       "\n",
       "             Inspection_Type             Results  \\\n",
       "10557                Canvass     Out of Business   \n",
       "41023                Canvass                Fail   \n",
       "41024                Canvass  Pass w/ Conditions   \n",
       "41025                Canvass                Pass   \n",
       "41026  Canvass Re-Inspection                Fail   \n",
       "\n",
       "                                              Violations   Latitude  \\\n",
       "10557                                                NaN  41.945777   \n",
       "41023  29. PREVIOUS MINOR VIOLATION(S) CORRECTED 7-42...  41.709957   \n",
       "41024  2. FACILITIES TO MAINTAIN PROPER TEMPERATURE -...  41.702577   \n",
       "41025  38. VENTILATION: ROOMS AND EQUIPMENT VENTED AS...  41.722372   \n",
       "41026  33. FOOD AND NON-FOOD CONTACT EQUIPMENT UTENSI...  41.731076   \n",
       "\n",
       "       Longitude                                 Location  year  month  \n",
       "10557 -87.649588  (41.94577730075354, -87.64958777668471)  2014      8  \n",
       "41023 -87.534223   (41.70995714781606, -87.5342225149751)  2014      1  \n",
       "41024 -87.525872  (41.70257660937248, -87.52587169711877)  2014      2  \n",
       "41025 -87.574275  (41.72237211196818, -87.57427469548966)  2014      2  \n",
       "41026 -87.551134   (41.7310758719025, -87.55113416594888)  2014      2  "
      ]
     },
     "execution_count": 60,
     "metadata": {},
     "output_type": "execute_result"
    }
   ],
   "source": [
    "food2014.head()"
   ]
  },
  {
   "cell_type": "markdown",
   "metadata": {},
   "source": [
    "#### A breakdown of the inspection types in 2014:"
   ]
  },
  {
   "cell_type": "code",
   "execution_count": 51,
   "metadata": {
    "collapsed": false
   },
   "outputs": [
    {
     "data": {
      "text/plain": [
       "Canvass                                   12229\n",
       "License                                    2418\n",
       "Canvass Re-Inspection                      2284\n",
       "Complaint                                  1653\n",
       "License Re-Inspection                       708\n",
       "Complaint Re-Inspection                     689\n",
       "Short Form Complaint                        644\n",
       "Consultation                                 67\n",
       "Suspected Food Poisoning                     45\n",
       "Recent Inspection                            30\n",
       "Suspected Food Poisoning Re-inspection       17\n",
       "Non-Inspection                                2\n",
       "Special Events (Festivals)                    2\n",
       "License-Task Force                            2\n",
       "Tag Removal                                   2\n",
       "Complaint-Fire                                2\n",
       "Short Form Fire-Complaint                     1\n",
       "Not Ready                                     1\n",
       "KITCHEN CLOSED FOR RENOVATION                 1\n",
       "dtype: int64"
      ]
     },
     "execution_count": 51,
     "metadata": {},
     "output_type": "execute_result"
    }
   ],
   "source": [
    "food2014.Inspection_Type.value_counts()"
   ]
  },
  {
   "cell_type": "markdown",
   "metadata": {},
   "source": [
    "#### A summary of the risk types appears below:"
   ]
  },
  {
   "cell_type": "code",
   "execution_count": 74,
   "metadata": {
    "collapsed": false
   },
   "outputs": [
    {
     "data": {
      "text/plain": [
       "Risk 1 (High)      10440\n",
       "Risk 2 (Medium)     2561\n",
       "Risk 3 (Low)         857\n",
       "All                    2\n",
       "dtype: int64"
      ]
     },
     "execution_count": 74,
     "metadata": {},
     "output_type": "execute_result"
    }
   ],
   "source": [
    "food2014_pt1 = food2014.loc[food2014['month'].values < 9,]\n",
    "food2014_pt1.Risk.value_counts()"
   ]
  },
  {
   "cell_type": "markdown",
   "metadata": {},
   "source": [
    "# Model Building"
   ]
  },
  {
   "cell_type": "markdown",
   "metadata": {},
   "source": [
    "### Goal of the model\n",
    "> The principle question is whether we can reasonably determine the probability that a restaurant inspection will yield at least one critical violation.\n",
    "\n",
    "Clearly this goal was refined with some experience handling this data, you'll have the same experience as you work with your data. \n",
    "\n",
    "\n",
    "\n",
    "Variable Name (Literal)                       | Variable Description\n",
    "----------------------------------------------|---------------------------------\n",
    "`Inspectorblue`                               | Indicator variable for Sanitarian Cluster 1\n",
    "`Inspectorbrown`                              | Indicator variable for Sanitarian Cluster 2\n",
    "`Inspectorgreen`                              | Indicator variable for Sanitarian Cluster 3\n",
    "`Inspectororange`                             | Indicator variable for Sanitarian Cluster 4\n",
    "`Inspectorpurple`                             | Indicator variable for Sanitarian Cluster 5\n",
    "`Inspectoryellow`                             | Indicator variable for Sanitarian Cluster 6\n",
    "`pastCritical`                                | Indicates any previous critical violations (last visit)\n",
    "`pastSerious`                                 | Indicates any previous serious violations (last visit)\n",
    "`timeSinceLast`                               | Elapsed time since previous inspection\n",
    "`ageAtInspection`                             | Age of business license at the time of inspection\n",
    "`consumption_on_premises_incidental_activity` | Presence of a license for consumption / incidental activity\n",
    "`tobacco_retail_over_counter`                 | Presence of an additional license for tobacco sales\n",
    "`temperatureMax`                              | The daily high temperature on the day of inspection\n",
    "`heat_burglary`                               | Local intensity of recent burglaries\n",
    "`heat_sanitation`                             | Local intensity of recent sanitation complaints\n",
    "`heat_garbage`                                | Local intensity of recent garbage cart requests\n",
    "\n",
    "\n",
    "\n",
    "We've seen Logistic regression with the Lasso penalty, some of you may have heard of ridge regression, \n",
    "\n",
    "Excerpt from *Forecasting restaurants with critical violations in Chicago*:\n",
    "\n",
    "\n",
    ">$$\n",
    "\\begin{aligned}\n",
    "\\log = \\frac{\\text{Pr}(V=1|X=x)}{\\text{Pr}(V=0|X=x)} = \\beta_0 + \\beta^T x\n",
    "\\end{aligned}\n",
    "$$\n",
    "\n",
    ">Thus, the objective function is to minimize \n",
    ">\n",
    "$$\n",
    "\\begin{aligned}\n",
    "\\min_{(\\beta_0, \\beta) \\in \\mathbb{R}^{p+1}} -\\left[\\frac{1}{N} \\sum_{i=1}^N y_i \\cdot (\\beta_0 + x_i^T \\beta) - \\log (1+e^{(\\beta_0+x_i^T \\beta)})\\right] + \\lambda \\big[ (1-\\alpha)||\\beta||_2^2/2 + \\alpha||\\beta||_1\\big]\n",
    "\\end{aligned}\n",
    "$$\n"
   ]
  },
  {
   "cell_type": "markdown",
   "metadata": {},
   "source": [
    "### Model Validation\n",
    "> After formulating the analytical model, the the principal question for researchers turned to whether this analytical model provides more efficiency for the food inspection team. CDPH operational procedures requires the department to inspect every risk 1 and risk 2 restaurant. Therefore, the operational goal is to allow inspectors to discover critical violations earlier than their current operations (business-as-usual)."
   ]
  },
  {
   "cell_type": "code",
   "execution_count": 260,
   "metadata": {
    "collapsed": false
   },
   "outputs": [],
   "source": [
    "X = pd.read_csv('model_matrix.csv', sep=',').values.astype(np.double)\n",
    "y = pd.read_csv('TARGET.csv', sep=',').values.astype(np.double).transpose()[0]\n"
   ]
  },
  {
   "cell_type": "code",
   "execution_count": 261,
   "metadata": {
    "collapsed": true
   },
   "outputs": [],
   "source": [
    "from sklearn.linear_model import lasso_path, enet_path\n",
    "eps = 5e-3  # the smaller it is the longer is the path\n"
   ]
  },
  {
   "cell_type": "code",
   "execution_count": 263,
   "metadata": {
    "collapsed": false
   },
   "outputs": [
    {
     "name": "stdout",
     "output_type": "stream",
     "text": [
      "Computing regularization path using the lasso...\n",
      "Computing regularization path using the elastic net...\n",
      "CPU times: user 13.4 ms, sys: 854 µs, total: 14.2 ms\n",
      "Wall time: 14.6 ms\n"
     ]
    }
   ],
   "source": [
    "%%time\n",
    "print(\"Computing regularization path using the lasso...\")\n",
    "alphas_lasso, coefs_lasso, _ = lasso_path(X, y, eps, fit_intercept=False)\n",
    "\n",
    "print(\"Computing regularization path using the elastic net...\")\n",
    "alphas_enet, coefs_enet, _ = enet_path(X, y, eps=eps, l1_ratio=0.8, fit_intercept=False)\n"
   ]
  },
  {
   "cell_type": "code",
   "execution_count": 288,
   "metadata": {
    "collapsed": false
   },
   "outputs": [
    {
     "name": "stdout",
     "output_type": "stream",
     "text": [
      "[ 2.07100577  1.96308264  1.86078354  1.76381539  1.67190039  1.58477522\n",
      "  1.50219027  1.42390895  1.34970697  1.27937177  1.21270184  1.14950618\n",
      "  1.08960373  1.03282289  0.97900098  0.92798381  0.87962522  0.83378667\n",
      "  0.79033683  0.74915122  0.71011186  0.67310689  0.63803031  0.60478162\n",
      "  0.57326557  0.54339186  0.51507492  0.48823361  0.46279105  0.43867433\n",
      "  0.41581437  0.39414567  0.37360617  0.35413701  0.33568241  0.31818951\n",
      "  0.30160819  0.28589095  0.27099275  0.25687092  0.243485    0.23079665\n",
      "  0.2187695   0.2073691   0.19656279  0.18631962  0.17661023  0.16740681\n",
      "  0.158683    0.1504138   0.14257551  0.1351457   0.12810306  0.12142742\n",
      "  0.11509966  0.10910165  0.1034162   0.09802703  0.0929187   0.08807657\n",
      "  0.08348677  0.07913616  0.07501225  0.07110326  0.06739796  0.06388576\n",
      "  0.06055658  0.05740088  0.05440964  0.05157427  0.04888666  0.04633911\n",
      "  0.04392431  0.04163535  0.03946567  0.03740906  0.03545962  0.03361176\n",
      "  0.03186021  0.03019992  0.02862616  0.02713441  0.0257204   0.02438007\n",
      "  0.02310959  0.02190531  0.0207638   0.01968176  0.01865612  0.01768392\n",
      "  0.01676239  0.01588887  0.01506088  0.01427604  0.01353209  0.01282692\n",
      "  0.01215849  0.01152489  0.01092431  0.01035503]\n"
     ]
    }
   ],
   "source": [
    "print alphas_enet- alphas_lasso"
   ]
  },
  {
   "cell_type": "code",
   "execution_count": 269,
   "metadata": {
    "collapsed": false
   },
   "outputs": [
    {
     "data": {
      "text/plain": [
       "<matplotlib.legend.Legend at 0x10d1d7d10>"
      ]
     },
     "execution_count": 269,
     "metadata": {},
     "output_type": "execute_result"
    },
    {
     "data": {
      "image/png": "[encoded data removed]",
      "text/plain": [
       "<matplotlib.figure.Figure at 0x1112c1390>"
      ]
     },
     "metadata": {},
     "output_type": "display_data"
    }
   ],
   "source": [
    "plt.figure(1)\n",
    "ax = plt.gca()\n",
    "ax.set_color_cycle(2 * ['b', 'r', 'g', 'c', 'k'])\n",
    "l1 = plt.plot(-np.log10(alphas_lasso), coefs_lasso.T)\n",
    "l2 = plt.plot(-np.log10(alphas_enet), coefs_enet.T, linestyle='--')\n",
    "\n",
    "plt.xlabel('-Log(alpha)')\n",
    "plt.ylabel('coefficients')\n",
    "plt.title('Lasso and Elastic-Net Paths')\n",
    "plt.legend((l1[-1], l2[-1]), ('Lasso', 'Elastic-Net'), loc='lower left')\n",
    "# plt.axis('tight')\n"
   ]
  },
  {
   "cell_type": "code",
   "execution_count": 280,
   "metadata": {
    "collapsed": false
   },
   "outputs": [
    {
     "data": {
      "text/plain": [
       "array([ 0.        ,  0.00012072,  0.00023516,  0.00034362,  0.00044644,\n",
       "        0.0005439 ,  0.00063628,  0.00072385,  0.00080685,  0.00088553,\n",
       "        0.0009601 ,  0.00103079,  0.0010978 ,  0.00116132,  0.00122152,\n",
       "        0.00127859,  0.00133268,  0.00138396,  0.00143256,  0.00147863,\n",
       "        0.0015223 ,  0.0015637 ,  0.00160293,  0.00164012,  0.00167538,\n",
       "        0.0017088 ,  0.00174047,  0.0017705 ,  0.00179896,  0.00182593,\n",
       "        0.0018515 ,  0.00187574,  0.00189872,  0.0019205 ,  0.00194114,\n",
       "        0.00196071,  0.00197926,  0.00199684,  0.0020135 ,  0.0020293 ,\n",
       "        0.00204427,  0.00205847,  0.00207192,  0.00208467,  0.00209676,\n",
       "        0.00210822,  0.00215472,  0.00220879,  0.00226005,  0.00230865,\n",
       "        0.00235977,  0.00242188,  0.00248073,  0.00253651,  0.00258939,\n",
       "        0.00263957,  0.00268708,  0.00273211,  0.00277479,  0.00281525,\n",
       "        0.00285361,  0.00288996,  0.00292442,  0.00295713,  0.00298809,\n",
       "        0.00301744,  0.00304525,  0.00307162,  0.00309661,  0.0031203 ,\n",
       "        0.00314281,  0.00316409,  0.00318426,  0.00320338,  0.00322151,\n",
       "        0.00323869,  0.00325502,  0.00327046,  0.00328509,  0.00329896,\n",
       "        0.0033121 ,  0.0033246 ,  0.00333641,  0.00334761,  0.00335822,\n",
       "        0.00336827,  0.00337784,  0.00338685,  0.00346225,  0.00353588,\n",
       "        0.00360566,  0.00367197,  0.00373465,  0.00379407,  0.0038504 ,\n",
       "        0.00390379,  0.00395439,  0.00400255,  0.004048  ,  0.0040911 ])"
      ]
     },
     "execution_count": 280,
     "metadata": {},
     "output_type": "execute_result"
    }
   ],
   "source": [
    "np.sum(np.abs(coefs_lasso.T), axis=1)"
   ]
  },
  {
   "cell_type": "code",
   "execution_count": 278,
   "metadata": {
    "collapsed": false
   },
   "outputs": [
    {
     "data": {
      "image/png": "[encoded data removed]",
      "text/plain": [
       "<matplotlib.figure.Figure at 0x11914e2d0>"
      ]
     },
     "metadata": {},
     "output_type": "display_data"
    }
   ],
   "source": [
    "xx = np.sum(np.abs(coefs_lasso.T), axis=1)\n",
    "xx /= xx[-1]\n",
    "\n",
    "plt.plot(xx, coefs_lasso.T)\n",
    "ymin, ymax = plt.ylim()\n",
    "# plt.vlines(xx, ymin, ymax, linestyle='dashed')\n",
    "plt.xlabel('|coef| / max|coef|')\n",
    "plt.ylabel('Coefficients')\n",
    "plt.title('LASSO Path')\n",
    "plt.axis('tight')\n",
    "plt.show()\n"
   ]
  },
  {
   "cell_type": "code",
   "execution_count": 250,
   "metadata": {
    "collapsed": false
   },
   "outputs": [
    {
     "name": "stdout",
     "output_type": "stream",
     "text": [
      "(442, 10) (442,)\n",
      "[ 151.   75.  141.  206.  135.   97.  138.   63.  110.  310.  101.   69.\n",
      "  179.  185.  118.  171.  166.  144.   97.  168.   68.   49.   68.  245.\n",
      "  184.  202.  137.   85.  131.  283.  129.   59.  341.   87.   65.  102.\n",
      "  265.  276.  252.   90.  100.   55.   61.   92.  259.   53.  190.  142.\n",
      "   75.  142.  155.  225.   59.  104.  182.  128.   52.   37.  170.  170.\n",
      "   61.  144.   52.  128.   71.  163.  150.   97.  160.  178.   48.  270.\n",
      "  202.  111.   85.   42.  170.  200.  252.  113.  143.   51.   52.  210.\n",
      "   65.  141.   55.  134.   42.  111.   98.  164.   48.   96.   90.  162.\n",
      "  150.  279.   92.   83.  128.  102.  302.  198.   95.   53.  134.  144.\n",
      "  232.   81.  104.   59.  246.  297.  258.  229.  275.  281.  179.  200.\n",
      "  200.  173.  180.   84.  121.  161.   99.  109.  115.  268.  274.  158.\n",
      "  107.   83.  103.  272.   85.  280.  336.  281.  118.  317.  235.   60.\n",
      "  174.  259.  178.  128.   96.  126.  288.   88.  292.   71.  197.  186.\n",
      "   25.   84.   96.  195.   53.  217.  172.  131.  214.   59.   70.  220.\n",
      "  268.  152.   47.   74.  295.  101.  151.  127.  237.  225.   81.  151.\n",
      "  107.   64.  138.  185.  265.  101.  137.  143.  141.   79.  292.  178.\n",
      "   91.  116.   86.  122.   72.  129.  142.   90.  158.   39.  196.  222.\n",
      "  277.   99.  196.  202.  155.   77.  191.   70.   73.   49.   65.  263.\n",
      "  248.  296.  214.  185.   78.   93.  252.  150.   77.  208.   77.  108.\n",
      "  160.   53.  220.  154.  259.   90.  246.  124.   67.   72.  257.  262.\n",
      "  275.  177.   71.   47.  187.  125.   78.   51.  258.  215.  303.  243.\n",
      "   91.  150.  310.  153.  346.   63.   89.   50.   39.  103.  308.  116.\n",
      "  145.   74.   45.  115.  264.   87.  202.  127.  182.  241.   66.   94.\n",
      "  283.   64.  102.  200.  265.   94.  230.  181.  156.  233.   60.  219.\n",
      "   80.   68.  332.  248.   84.  200.   55.   85.   89.   31.  129.   83.\n",
      "  275.   65.  198.  236.  253.  124.   44.  172.  114.  142.  109.  180.\n",
      "  144.  163.  147.   97.  220.  190.  109.  191.  122.  230.  242.  248.\n",
      "  249.  192.  131.  237.   78.  135.  244.  199.  270.  164.   72.   96.\n",
      "  306.   91.  214.   95.  216.  263.  178.  113.  200.  139.  139.   88.\n",
      "  148.   88.  243.   71.   77.  109.  272.   60.   54.  221.   90.  311.\n",
      "  281.  182.  321.   58.  262.  206.  233.  242.  123.  167.   63.  197.\n",
      "   71.  168.  140.  217.  121.  235.  245.   40.   52.  104.  132.   88.\n",
      "   69.  219.   72.  201.  110.   51.  277.   63.  118.   69.  273.  258.\n",
      "   43.  198.  242.  232.  175.   93.  168.  275.  293.  281.   72.  140.\n",
      "  189.  181.  209.  136.  261.  113.  131.  174.  257.   55.   84.   42.\n",
      "  146.  212.  233.   91.  111.  152.  120.   67.  310.   94.  183.   66.\n",
      "  173.   72.   49.   64.   48.  178.  104.  132.  220.   57.]\n"
     ]
    }
   ],
   "source": [
    "print X.shape, y.shape\n",
    "print y"
   ]
  },
  {
   "cell_type": "code",
   "execution_count": null,
   "metadata": {
    "collapsed": true
   },
   "outputs": [],
   "source": []
  }
 ],
 "metadata": {
  "kernelspec": {
   "display_name": "Python 2",
   "language": "python",
   "name": "python2"
  },
  "language_info": {
   "codemirror_mode": {
    "name": "ipython",
    "version": 2
   },
   "file_extension": ".py",
   "mimetype": "text/x-python",
   "name": "python",
   "nbconvert_exporter": "python",
   "pygments_lexer": "ipython2",
   "version": "2.7.10"
  }
 },
 "nbformat": 4,
 "nbformat_minor": 0
}
