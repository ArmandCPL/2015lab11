{
 "cells": [
  {
   "cell_type": "markdown",
   "metadata": {},
   "source": [
    "## Food Inspection Forecasting: Data processing\n",
    "This file is a Jupyter notebook run with an **R Kernel** to convert the data from Rds (the R programming language data dtorage sytem) to csv to be read into Python. \n",
    "\n",
    "All code and data is available on GitHub:\n",
    "https://github.com/Chicago/food-inspections-evaluation"
   ]
  },
  {
   "cell_type": "code",
   "execution_count": 45,
   "metadata": {
    "collapsed": false
   },
   "outputs": [],
   "source": [
    "# change to your local clone\n",
    "data_dir = '~/Harvard/teaching/cs109/2015lab11/food-inspections-evaluation/'\n",
    "out_dir = '~/Harvard/teaching/cs109/2015lab11/'\n",
    "\n",
    "library(\"data.table\", \"ggplot2\")\n",
    "\n",
    "# function_files = c('GenerateOtherLicenseInfo.R', 'filter_garbageCarts.R', 'calculate_confusion_values.R', 'filter_sanitationComplaints.R', 'calculate_heat_values.R', 'find_bus_id_matches.R', 'calculate_violation_types.R', 'gini.R', 'categorize.R', 'kde.R', 'filter_business.R', 'logLik.R', 'filter_crime.R', 'weather_3day_calc.R', 'filter_foodInspect.R')\n",
    "# function_locations = paste(data_dir, \"CODE/functions/\", function_files, sep = '')\n",
    "\n",
    "setwd(data_dir)"
   ]
  },
  {
   "cell_type": "markdown",
   "metadata": {},
   "source": [
    "### Food Inspection database processing"
   ]
  },
  {
   "cell_type": "code",
   "execution_count": 44,
   "metadata": {
    "collapsed": false
   },
   "outputs": [],
   "source": [
    "food = readRDS(\"DATA/food_inspections.Rds\")\n",
    "write.csv(food, file = paste(out_dir, '/food_inspections.csv', sep = ''), row.names = FALSE)"
   ]
  },
  {
   "cell_type": "markdown",
   "metadata": {},
   "source": [
    "### Model Dataframe processing"
   ]
  },
  {
   "cell_type": "code",
   "execution_count": 7,
   "metadata": {
    "collapsed": false
   },
   "outputs": [],
   "source": [
    "dat = readRDS(\"DATA/dat_model.Rds\")\n",
    "write.csv(dat, file = paste(out_dir, '/dat_model.csv', sep = ''))"
   ]
  },
  {
   "cell_type": "code",
   "execution_count": 20,
   "metadata": {
    "collapsed": false
   },
   "outputs": [],
   "source": [
    "dat <- readRDS(\"DATA/dat_model.Rds\")\n",
    "\n",
    "## Only keep \"Retail Food Establishment\"\n",
    "dat <- dat[LICENSE_DESCRIPTION == \"Retail Food Establishment\"]\n",
    "## Remove License Description\n",
    "dat$LICENSE_DESCRIPTION <- NULL\n",
    "dat <- na.omit(dat)\n",
    "\n",
    "## Add criticalFound variable to dat:\n",
    "dat$criticalFound <- pmin(1, dat$criticalCount)\n",
    "\n",
    "# ## Set the key for dat\n",
    "setkey(dat, Inspection_ID)\n",
    "\n",
    "# Match time period of original results\n",
    "# dat <- dat[Inspection_Date < \"2013-09-01\" | Inspection_Date > \"2014-07-01\"]\n",
    "\n",
    "#==============================================================================\n",
    "# CREATE MODEL DATA\n",
    "#==============================================================================\n",
    "# sort(colnames(dat))\n",
    "\n",
    "xmat <- dat[ , list(Inspector = Inspector_Assigned,\n",
    "                    pastSerious = pmin(pastSerious, 1),\n",
    "                    pastCritical = pmin(pastCritical, 1),\n",
    "                    timeSinceLast,\n",
    "                    ageAtInspection = ifelse(ageAtInspection > 4, 1L, 0L),\n",
    "                    consumption_on_premises_incidental_activity,\n",
    "                    tobacco_retail_over_counter,\n",
    "                    temperatureMax,\n",
    "                    heat_burglary = pmin(heat_burglary, 70),\n",
    "                    heat_sanitation = pmin(heat_sanitation, 70),\n",
    "                    heat_garbage = pmin(heat_garbage, 50),\n",
    "                    # Facility_Type,\n",
    "                    criticalFound),\n",
    "            keyby = Inspection_ID]\n",
    "mm <- model.matrix(criticalFound ~ . -1, data=xmat[ , -1, with=F])\n",
    "mm <- as.data.table(mm)\n",
    "str(mm)\n",
    "colnames(mm)\n",
    "\n",
    "#==============================================================================\n",
    "# CREATE TEST / TRAIN PARTITIONS\n",
    "#==============================================================================\n",
    "# 2014-07-01 is an easy separator\n",
    "\n",
    "dat[Inspection_Date < \"2014-07-01\", range(Inspection_Date)]\n",
    "dat[Inspection_Date > \"2014-07-01\", range(Inspection_Date)]\n",
    "\n",
    "iiTrain <- dat[ , which(Inspection_Date < \"2014-07-01\")]\n",
    "iiTest <- dat[ , which(Inspection_Date > \"2014-07-01\")]\n",
    "\n",
    "## Check to see if any rows didn't make it through the model.matrix formula\n",
    "nrow(dat)\n",
    "nrow(xmat)\n",
    "nrow(mm)\n"
   ]
  },
  {
   "cell_type": "code",
   "execution_count": 48,
   "metadata": {
    "collapsed": false
   },
   "outputs": [],
   "source": [
    "# Output Model Matrix and Target\n",
    "\n",
    "write.csv(mm, file = paste(out_dir, '/model_matrix.csv', sep = ''), row.names = FALSE)\n",
    "write.csv(xmat$criticalFound, file = paste(out_dir, '/TARGET.csv', sep = ''), row.names = FALSE)"
   ]
  },
  {
   "cell_type": "code",
   "execution_count": 42,
   "metadata": {
    "collapsed": false
   },
   "outputs": [
    {
     "data": {
      "text/html": [
       "'/Users/luis/Harvard/teaching/cs109/2015lab11/food-inspections-evaluation'"
      ],
      "text/latex": [
       "'/Users/luis/Harvard/teaching/cs109/2015lab11/food-inspections-evaluation'"
      ],
      "text/markdown": [
       "'/Users/luis/Harvard/teaching/cs109/2015lab11/food-inspections-evaluation'"
      ],
      "text/plain": [
       "[1] \"/Users/luis/Harvard/teaching/cs109/2015lab11/food-inspections-evaluation\""
      ]
     },
     "execution_count": 42,
     "metadata": {},
     "output_type": "execute_result"
    }
   ],
   "source": []
  },
  {
   "cell_type": "code",
   "execution_count": null,
   "metadata": {
    "collapsed": true
   },
   "outputs": [],
   "source": []
  }
 ],
 "metadata": {
  "kernelspec": {
   "display_name": "R",
   "language": "R",
   "name": "ir"
  },
  "language_info": {
   "codemirror_mode": "r",
   "file_extension": ".r",
   "mimetype": "text/x-r-source",
   "name": "R",
   "pygments_lexer": "r",
   "version": "3.2.1"
  }
 },
 "nbformat": 4,
 "nbformat_minor": 0
}
